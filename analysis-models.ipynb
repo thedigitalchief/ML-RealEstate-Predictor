{
 "cells": [
  {
   "cell_type": "code",
   "execution_count": 7,
   "metadata": {},
   "outputs": [
    {
     "ename": "ModuleNotFoundError",
     "evalue": "No module named 'shap'",
     "output_type": "error",
     "traceback": [
      "\u001b[0;31m---------------------------------------------------------------------------\u001b[0m",
      "\u001b[0;31mModuleNotFoundError\u001b[0m                       Traceback (most recent call last)",
      "\u001b[1;32m/Users/dylannguyen/Documents/Coding/RealEstate-Analyzer/analysis-models.ipynb Cell 1\u001b[0m in \u001b[0;36m<cell line: 15>\u001b[0;34m()\u001b[0m\n\u001b[1;32m     <a href='vscode-notebook-cell:/Users/dylannguyen/Documents/Coding/RealEstate-Analyzer/analysis-models.ipynb#W0sZmlsZQ%3D%3D?line=12'>13</a>\u001b[0m \u001b[39mfrom\u001b[39;00m \u001b[39msklearn\u001b[39;00m\u001b[39m.\u001b[39;00m\u001b[39mmodel_selection\u001b[39;00m \u001b[39mimport\u001b[39;00m cross_val_score\n\u001b[1;32m     <a href='vscode-notebook-cell:/Users/dylannguyen/Documents/Coding/RealEstate-Analyzer/analysis-models.ipynb#W0sZmlsZQ%3D%3D?line=13'>14</a>\u001b[0m \u001b[39mfrom\u001b[39;00m \u001b[39mscipy\u001b[39;00m \u001b[39mimport\u001b[39;00m stats\n\u001b[0;32m---> <a href='vscode-notebook-cell:/Users/dylannguyen/Documents/Coding/RealEstate-Analyzer/analysis-models.ipynb#W0sZmlsZQ%3D%3D?line=14'>15</a>\u001b[0m \u001b[39mimport\u001b[39;00m \u001b[39mshap\u001b[39;00m\n\u001b[1;32m     <a href='vscode-notebook-cell:/Users/dylannguyen/Documents/Coding/RealEstate-Analyzer/analysis-models.ipynb#W0sZmlsZQ%3D%3D?line=15'>16</a>\u001b[0m \u001b[39mfrom\u001b[39;00m \u001b[39msklearn\u001b[39;00m\u001b[39m.\u001b[39;00m\u001b[39mneighbors\u001b[39;00m \u001b[39mimport\u001b[39;00m KNeighborsRegressor\n\u001b[1;32m     <a href='vscode-notebook-cell:/Users/dylannguyen/Documents/Coding/RealEstate-Analyzer/analysis-models.ipynb#W0sZmlsZQ%3D%3D?line=17'>18</a>\u001b[0m \u001b[39m#model building tools\u001b[39;00m\n",
      "\u001b[0;31mModuleNotFoundError\u001b[0m: No module named 'shap'"
     ]
    }
   ],
   "source": [
    "#general tools\n",
    "import pandas as pd\n",
    "import matplotlib.pyplot as plt\n",
    "import numpy as np\n",
    "import seaborn as sns\n",
    "import sqlite3\n",
    "\n",
    "#data processing tools\n",
    "from sklearn.preprocessing import OneHotEncoder\n",
    "from sklearn.impute import SimpleImputer, KNNImputer\n",
    "from sklearn.model_selection import train_test_split\n",
    "from sklearn.metrics import mean_squared_error, mean_absolute_error, mean_squared_log_error\n",
    "from sklearn.model_selection import cross_val_score\n",
    "from scipy import stats\n",
    "import shap\n",
    "from sklearn.neighbors import KNeighborsRegressor\n",
    "\n",
    "#model building tools\n",
    "from sklearn.ensemble import RandomForestRegressor\n",
    "from xgboost import XGBRegressor\n",
    "from sklearn.model_selection import GridSearchCV\n",
    "from sklearn.linear_model import LinearRegression, Lasso\n",
    "from sklearn.svm import SVR\n",
    "from sklearn.pipeline import make_pipeline\n",
    "from sklearn.preprocessing import RobustScaler\n",
    "import lightgbm as lgb\n",
    "from lightgbm import LGBMRegressor\n",
    "from catboost import CatBoostRegressor\n",
    "from catboost import Pool\n",
    "import statsmodels.api as sm\n",
    "\n",
    "#model productionalization tools\n",
    "import pickle\n"
   ]
  },
  {
   "cell_type": "markdown",
   "metadata": {},
   "source": [
    "### Import database"
   ]
  },
  {
   "cell_type": "code",
   "execution_count": 9,
   "metadata": {},
   "outputs": [],
   "source": [
    "#Establish connection with the local trulia housing .db \n",
    "conn = sqlite3.connect(r'trulia_sb_house_data.db')\n",
    "\n",
    "#read the \"cleaned data\" table from database and store in a pandas dataframe\n",
    "df = pd.read_sql_query(\"SELECT * FROM trulia_house_SB_data_cleaned\", conn)\n"
   ]
  },
  {
   "cell_type": "code",
   "execution_count": 10,
   "metadata": {},
   "outputs": [
    {
     "data": {
      "text/plain": [
       "Index(['level_0', 'index', 'price', 'address', 'zip', 'num_bedrooms',\n",
       "       'num_baths', 'building_sqft', 'year_built', 'lot_area',\n",
       "       'home_description', 'feature_list', 'house_age', 'has_garage',\n",
       "       'has_ocean_views', 'has_mountain_views', 'has_pool', 'has_upstairs',\n",
       "       'has_IV', 'building_sqft_was_missing'],\n",
       "      dtype='object')"
      ]
     },
     "execution_count": 10,
     "metadata": {},
     "output_type": "execute_result"
    }
   ],
   "source": [
    "\n",
    "df.head()\n",
    "df.columns\n"
   ]
  },
  {
   "cell_type": "code",
   "execution_count": 12,
   "metadata": {},
   "outputs": [],
   "source": [
    "#dropping unneeded columns\n",
    "df_model=df.drop(['level_0','index', 'address', 'year_built', 'home_description', 'feature_list'],axis=1)"
   ]
  },
  {
   "cell_type": "markdown",
   "metadata": {},
   "source": [
    "### Feature Engineering"
   ]
  },
  {
   "cell_type": "code",
   "execution_count": 13,
   "metadata": {},
   "outputs": [
    {
     "name": "stderr",
     "output_type": "stream",
     "text": [
      "/Users/dylannguyen/opt/anaconda3/lib/python3.9/site-packages/sklearn/utils/deprecation.py:87: FutureWarning: Function get_feature_names is deprecated; get_feature_names is deprecated in 1.0 and will be removed in 1.2. Please use get_feature_names_out instead.\n",
      "  warnings.warn(msg, category=FutureWarning)\n"
     ]
    },
    {
     "data": {
      "text/html": [
       "<div>\n",
       "<style scoped>\n",
       "    .dataframe tbody tr th:only-of-type {\n",
       "        vertical-align: middle;\n",
       "    }\n",
       "\n",
       "    .dataframe tbody tr th {\n",
       "        vertical-align: top;\n",
       "    }\n",
       "\n",
       "    .dataframe thead th {\n",
       "        text-align: right;\n",
       "    }\n",
       "</style>\n",
       "<table border=\"1\" class=\"dataframe\">\n",
       "  <thead>\n",
       "    <tr style=\"text-align: right;\">\n",
       "      <th></th>\n",
       "      <th>price</th>\n",
       "      <th>zip</th>\n",
       "      <th>num_bedrooms</th>\n",
       "      <th>num_baths</th>\n",
       "      <th>building_sqft</th>\n",
       "      <th>lot_area</th>\n",
       "      <th>house_age</th>\n",
       "      <th>has_garage</th>\n",
       "      <th>has_ocean_views</th>\n",
       "      <th>has_mountain_views</th>\n",
       "      <th>...</th>\n",
       "      <th>building_sqft_was_missing</th>\n",
       "      <th>zip_93067</th>\n",
       "      <th>zip_93101</th>\n",
       "      <th>zip_93103</th>\n",
       "      <th>zip_93105</th>\n",
       "      <th>zip_93108</th>\n",
       "      <th>zip_93109</th>\n",
       "      <th>zip_93110</th>\n",
       "      <th>zip_93111</th>\n",
       "      <th>zip_93117</th>\n",
       "    </tr>\n",
       "  </thead>\n",
       "  <tbody>\n",
       "    <tr>\n",
       "      <th>0</th>\n",
       "      <td>3.900000</td>\n",
       "      <td>93108</td>\n",
       "      <td>3.0</td>\n",
       "      <td>3.0</td>\n",
       "      <td>2.354</td>\n",
       "      <td>1.00</td>\n",
       "      <td>62.0</td>\n",
       "      <td>0</td>\n",
       "      <td>0</td>\n",
       "      <td>0</td>\n",
       "      <td>...</td>\n",
       "      <td>0</td>\n",
       "      <td>0.0</td>\n",
       "      <td>0.0</td>\n",
       "      <td>0.0</td>\n",
       "      <td>0.0</td>\n",
       "      <td>1.0</td>\n",
       "      <td>0.0</td>\n",
       "      <td>0.0</td>\n",
       "      <td>0.0</td>\n",
       "      <td>0.0</td>\n",
       "    </tr>\n",
       "    <tr>\n",
       "      <th>1</th>\n",
       "      <td>1.780000</td>\n",
       "      <td>93105</td>\n",
       "      <td>3.0</td>\n",
       "      <td>2.0</td>\n",
       "      <td>1.395</td>\n",
       "      <td>0.14</td>\n",
       "      <td>73.0</td>\n",
       "      <td>1</td>\n",
       "      <td>0</td>\n",
       "      <td>0</td>\n",
       "      <td>...</td>\n",
       "      <td>0</td>\n",
       "      <td>0.0</td>\n",
       "      <td>0.0</td>\n",
       "      <td>0.0</td>\n",
       "      <td>1.0</td>\n",
       "      <td>0.0</td>\n",
       "      <td>0.0</td>\n",
       "      <td>0.0</td>\n",
       "      <td>0.0</td>\n",
       "      <td>0.0</td>\n",
       "    </tr>\n",
       "    <tr>\n",
       "      <th>2</th>\n",
       "      <td>1.350000</td>\n",
       "      <td>93105</td>\n",
       "      <td>3.0</td>\n",
       "      <td>2.0</td>\n",
       "      <td>1.344</td>\n",
       "      <td>0.50</td>\n",
       "      <td>50.0</td>\n",
       "      <td>0</td>\n",
       "      <td>0</td>\n",
       "      <td>0</td>\n",
       "      <td>...</td>\n",
       "      <td>0</td>\n",
       "      <td>0.0</td>\n",
       "      <td>0.0</td>\n",
       "      <td>0.0</td>\n",
       "      <td>1.0</td>\n",
       "      <td>0.0</td>\n",
       "      <td>0.0</td>\n",
       "      <td>0.0</td>\n",
       "      <td>0.0</td>\n",
       "      <td>0.0</td>\n",
       "    </tr>\n",
       "    <tr>\n",
       "      <th>3</th>\n",
       "      <td>2.899000</td>\n",
       "      <td>93109</td>\n",
       "      <td>3.0</td>\n",
       "      <td>3.0</td>\n",
       "      <td>2.558</td>\n",
       "      <td>0.50</td>\n",
       "      <td>42.0</td>\n",
       "      <td>0</td>\n",
       "      <td>0</td>\n",
       "      <td>0</td>\n",
       "      <td>...</td>\n",
       "      <td>0</td>\n",
       "      <td>0.0</td>\n",
       "      <td>0.0</td>\n",
       "      <td>0.0</td>\n",
       "      <td>0.0</td>\n",
       "      <td>0.0</td>\n",
       "      <td>1.0</td>\n",
       "      <td>0.0</td>\n",
       "      <td>0.0</td>\n",
       "      <td>0.0</td>\n",
       "    </tr>\n",
       "    <tr>\n",
       "      <th>4</th>\n",
       "      <td>1.824215</td>\n",
       "      <td>93109</td>\n",
       "      <td>4.0</td>\n",
       "      <td>2.0</td>\n",
       "      <td>1.407</td>\n",
       "      <td>0.14</td>\n",
       "      <td>63.0</td>\n",
       "      <td>0</td>\n",
       "      <td>0</td>\n",
       "      <td>0</td>\n",
       "      <td>...</td>\n",
       "      <td>0</td>\n",
       "      <td>0.0</td>\n",
       "      <td>0.0</td>\n",
       "      <td>0.0</td>\n",
       "      <td>0.0</td>\n",
       "      <td>0.0</td>\n",
       "      <td>1.0</td>\n",
       "      <td>0.0</td>\n",
       "      <td>0.0</td>\n",
       "      <td>0.0</td>\n",
       "    </tr>\n",
       "  </tbody>\n",
       "</table>\n",
       "<p>5 rows × 23 columns</p>\n",
       "</div>"
      ],
      "text/plain": [
       "      price    zip  num_bedrooms  num_baths  building_sqft  lot_area  \\\n",
       "0  3.900000  93108           3.0        3.0          2.354      1.00   \n",
       "1  1.780000  93105           3.0        2.0          1.395      0.14   \n",
       "2  1.350000  93105           3.0        2.0          1.344      0.50   \n",
       "3  2.899000  93109           3.0        3.0          2.558      0.50   \n",
       "4  1.824215  93109           4.0        2.0          1.407      0.14   \n",
       "\n",
       "   house_age  has_garage  has_ocean_views  has_mountain_views  ...  \\\n",
       "0       62.0           0                0                   0  ...   \n",
       "1       73.0           1                0                   0  ...   \n",
       "2       50.0           0                0                   0  ...   \n",
       "3       42.0           0                0                   0  ...   \n",
       "4       63.0           0                0                   0  ...   \n",
       "\n",
       "   building_sqft_was_missing  zip_93067  zip_93101  zip_93103  zip_93105  \\\n",
       "0                          0        0.0        0.0        0.0        0.0   \n",
       "1                          0        0.0        0.0        0.0        1.0   \n",
       "2                          0        0.0        0.0        0.0        1.0   \n",
       "3                          0        0.0        0.0        0.0        0.0   \n",
       "4                          0        0.0        0.0        0.0        0.0   \n",
       "\n",
       "   zip_93108  zip_93109  zip_93110  zip_93111  zip_93117  \n",
       "0        1.0        0.0        0.0        0.0        0.0  \n",
       "1        0.0        0.0        0.0        0.0        0.0  \n",
       "2        0.0        0.0        0.0        0.0        0.0  \n",
       "3        0.0        1.0        0.0        0.0        0.0  \n",
       "4        0.0        1.0        0.0        0.0        0.0  \n",
       "\n",
       "[5 rows x 23 columns]"
      ]
     },
     "execution_count": 13,
     "metadata": {},
     "output_type": "execute_result"
    }
   ],
   "source": [
    "#The only catagorical feature is the zipcode\n",
    "enc = OneHotEncoder(handle_unknown='ignore')\n",
    "\n",
    "enc_df = pd.DataFrame(enc.fit_transform(df[['zip']]).toarray())\n",
    "enc_df.columns = enc.get_feature_names(['zip'])\n",
    "\n",
    "df_model = df_model.join(enc_df)\n",
    "df_model.head()\n"
   ]
  },
  {
   "cell_type": "code",
   "execution_count": 15,
   "metadata": {},
   "outputs": [
    {
     "name": "stdout",
     "output_type": "stream",
     "text": [
      "price                        0\n",
      "zip                          0\n",
      "num_bedrooms                 0\n",
      "num_baths                    0\n",
      "building_sqft                0\n",
      "lot_area                     0\n",
      "house_age                    0\n",
      "has_garage                   0\n",
      "has_ocean_views              0\n",
      "has_mountain_views           0\n",
      "has_pool                     0\n",
      "has_upstairs                 0\n",
      "has_IV                       0\n",
      "building_sqft_was_missing    0\n",
      "zip_93067                    0\n",
      "zip_93101                    0\n",
      "zip_93103                    0\n",
      "zip_93105                    0\n",
      "zip_93108                    0\n",
      "zip_93109                    0\n",
      "zip_93110                    0\n",
      "zip_93111                    0\n",
      "zip_93117                    0\n",
      "dtype: int64\n"
     ]
    }
   ],
   "source": [
    "#number of nulls in each column\n",
    "print(df_model.isnull().sum())"
   ]
  },
  {
   "cell_type": "markdown",
   "metadata": {},
   "source": [
    "### Imputation"
   ]
  },
  {
   "cell_type": "code",
   "execution_count": 14,
   "metadata": {},
   "outputs": [],
   "source": [
    "#imputation: missing data are filled in to create a complete data matrix that can be analyzed using standard methods\n",
    "#takes in df and imputes missing numeric values with a knn regressor\n",
    "def knn_imputer(df):\n",
    "\n",
    "    #isolate the columns with categorical data\n",
    "    cat_data = df.select_dtypes(exclude=[np.number])\n",
    "\n",
    "    #isolate the columns with numeric data\n",
    "    numeric_data = df.select_dtypes(include=[np.number])\n",
    "\n",
    "    nan_columns = numeric_data.columns[numeric_data.isna().any()].tolist()\n",
    "    no_nan_columns = numeric_data.drop(columns=nan_columns).columns\n",
    "\n",
    "    for col in nan_columns:\n",
    "\n",
    "        KNN_test_data = numeric_data[numeric_data[col].isna()]\n",
    "        KNN_train_data = numeric_data.dropna()\n",
    "        KNN_model = KNeighborsRegressor(n_neighbors=3)\n",
    "        KNN_model.fit(KNN_train_data[no_nan_columns], KNN_train_data[col])\n",
    "        numeric_data.loc[numeric_data[col].isna(), col] = KNN_model.predict(\n",
    "            KNN_test_data[no_nan_columns])\n",
    "\n",
    "    return pd.concat([numeric_data, cat_data], axis=1)\n",
    "\n",
    "\n",
    "#df_model=knn_imputer(df_model)\n",
    "df_model.dropna(subset=['building_sqft'], inplace=True)\n"
   ]
  },
  {
   "cell_type": "code",
   "execution_count": 16,
   "metadata": {},
   "outputs": [
    {
     "name": "stdout",
     "output_type": "stream",
     "text": [
      "price                        0\n",
      "zip                          0\n",
      "num_bedrooms                 0\n",
      "num_baths                    0\n",
      "building_sqft                0\n",
      "lot_area                     0\n",
      "house_age                    0\n",
      "has_garage                   0\n",
      "has_ocean_views              0\n",
      "has_mountain_views           0\n",
      "has_pool                     0\n",
      "has_upstairs                 0\n",
      "has_IV                       0\n",
      "building_sqft_was_missing    0\n",
      "zip_93067                    0\n",
      "zip_93101                    0\n",
      "zip_93103                    0\n",
      "zip_93105                    0\n",
      "zip_93108                    0\n",
      "zip_93109                    0\n",
      "zip_93110                    0\n",
      "zip_93111                    0\n",
      "zip_93117                    0\n",
      "dtype: int64\n"
     ]
    }
   ],
   "source": [
    "#printing to make sure no columns have null values\n",
    "print(df_model.isnull().sum())\n"
   ]
  },
  {
   "cell_type": "code",
   "execution_count": null,
   "metadata": {},
   "outputs": [],
   "source": [
    "#Finalized descriptive statistics for each numeric column in df\n",
    "df_model.describe()"
   ]
  }
 ],
 "metadata": {
  "kernelspec": {
   "display_name": "Python 3.9.12",
   "language": "python",
   "name": "python3"
  },
  "language_info": {
   "codemirror_mode": {
    "name": "ipython",
    "version": 3
   },
   "file_extension": ".py",
   "mimetype": "text/x-python",
   "name": "python",
   "nbconvert_exporter": "python",
   "pygments_lexer": "ipython3",
   "version": "3.9.12"
  },
  "orig_nbformat": 4,
  "vscode": {
   "interpreter": {
    "hash": "33c8b23bc582f7a74b9111a321c2904b580ffed4f8c89cbd419921d6ebbc0cf3"
   }
  }
 },
 "nbformat": 4,
 "nbformat_minor": 2
}
