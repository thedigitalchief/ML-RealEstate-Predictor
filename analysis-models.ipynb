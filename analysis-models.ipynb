{
 "cells": [
  {
   "cell_type": "code",
   "execution_count": 1,
   "metadata": {},
   "outputs": [
    {
     "ename": "ModuleNotFoundError",
     "evalue": "No module named 'sklearn'",
     "output_type": "error",
     "traceback": [
      "\u001b[0;31m---------------------------------------------------------------------------\u001b[0m",
      "\u001b[0;31mModuleNotFoundError\u001b[0m                       Traceback (most recent call last)",
      "\u001b[1;32m/Users/dylannguyen/Documents/Coding/RealEstate-Analyzer/analysis-models.ipynb Cell 1\u001b[0m in \u001b[0;36m<cell line: 9>\u001b[0;34m()\u001b[0m\n\u001b[1;32m      <a href='vscode-notebook-cell:/Users/dylannguyen/Documents/Coding/RealEstate-Analyzer/analysis-models.ipynb#W0sZmlsZQ%3D%3D?line=5'>6</a>\u001b[0m \u001b[39mimport\u001b[39;00m \u001b[39msqlite3\u001b[39;00m\n\u001b[1;32m      <a href='vscode-notebook-cell:/Users/dylannguyen/Documents/Coding/RealEstate-Analyzer/analysis-models.ipynb#W0sZmlsZQ%3D%3D?line=7'>8</a>\u001b[0m \u001b[39m#data processing tools\u001b[39;00m\n\u001b[0;32m----> <a href='vscode-notebook-cell:/Users/dylannguyen/Documents/Coding/RealEstate-Analyzer/analysis-models.ipynb#W0sZmlsZQ%3D%3D?line=8'>9</a>\u001b[0m \u001b[39mfrom\u001b[39;00m \u001b[39msklearn\u001b[39;00m\u001b[39m.\u001b[39;00m\u001b[39mpreprocessing\u001b[39;00m \u001b[39mimport\u001b[39;00m OneHotEncoder\n\u001b[1;32m     <a href='vscode-notebook-cell:/Users/dylannguyen/Documents/Coding/RealEstate-Analyzer/analysis-models.ipynb#W0sZmlsZQ%3D%3D?line=9'>10</a>\u001b[0m \u001b[39mfrom\u001b[39;00m \u001b[39msklearn\u001b[39;00m\u001b[39m.\u001b[39;00m\u001b[39mimpute\u001b[39;00m \u001b[39mimport\u001b[39;00m SimpleImputer, KNNImputer\n\u001b[1;32m     <a href='vscode-notebook-cell:/Users/dylannguyen/Documents/Coding/RealEstate-Analyzer/analysis-models.ipynb#W0sZmlsZQ%3D%3D?line=10'>11</a>\u001b[0m \u001b[39mfrom\u001b[39;00m \u001b[39msklearn\u001b[39;00m\u001b[39m.\u001b[39;00m\u001b[39mmodel_selection\u001b[39;00m \u001b[39mimport\u001b[39;00m train_test_split\n",
      "\u001b[0;31mModuleNotFoundError\u001b[0m: No module named 'sklearn'"
     ]
    }
   ],
   "source": [
    "#general tools\n",
    "import pandas as pd\n",
    "import matplotlib.pyplot as plt\n",
    "import numpy as np\n",
    "import seaborn as sns\n",
    "import sqlite3\n",
    "\n",
    "#data processing tools\n",
    "from sklearn.preprocessing import OneHotEncoder\n",
    "from sklearn.impute import SimpleImputer, KNNImputer\n",
    "from sklearn.model_selection import train_test_split\n",
    "from sklearn.metrics import mean_squared_error, mean_absolute_error, mean_squared_log_error\n",
    "from sklearn.model_selection import cross_val_score\n",
    "from scipy import stats\n",
    "import shap\n",
    "from sklearn.neighbors import KNeighborsRegressor\n",
    "\n",
    "#model building tools\n",
    "from sklearn.ensemble import RandomForestRegressor\n",
    "from xgboost import XGBRegressor\n",
    "from sklearn.model_selection import GridSearchCV\n",
    "from sklearn.linear_model import LinearRegression, Lasso\n",
    "from sklearn.svm import SVR\n",
    "from sklearn.pipeline import make_pipeline\n",
    "from sklearn.preprocessing import RobustScaler\n",
    "import lightgbm as lgb\n",
    "from lightgbm import LGBMRegressor\n",
    "from catboost import CatBoostRegressor\n",
    "from catboost import Pool\n",
    "import statsmodels.api as sm\n",
    "\n",
    "#model productionalization tools\n",
    "import pickle\n"
   ]
  },
  {
   "cell_type": "markdown",
   "metadata": {},
   "source": [
    "### Import database"
   ]
  },
  {
   "cell_type": "code",
   "execution_count": null,
   "metadata": {},
   "outputs": [],
   "source": [
    "#Establish connection with the local trulia housing .db SQLite file\n",
    "conn = sqlite3.connect(r'trulia_sb_house_data.db')\n",
    "\n",
    "#read the \"cleaned data\" table from the trulia housing database and store in a pandas dataframe\n",
    "df = pd.read_sql_query(\"SELECT * FROM trulia_house_SB_data_cleaned\", conn)\n"
   ]
  },
  {
   "cell_type": "code",
   "execution_count": null,
   "metadata": {},
   "outputs": [],
   "source": [
    "\n",
    "df.head()\n",
    "df.columns\n"
   ]
  },
  {
   "cell_type": "code",
   "execution_count": 5,
   "metadata": {},
   "outputs": [
    {
     "name": "stdout",
     "output_type": "stream",
     "text": [
      "Approach 1: The p-value approach to hypothesis testing in the decision rule\n"
     ]
    },
    {
     "ename": "NameError",
     "evalue": "name 'anova_table' is not defined",
     "output_type": "error",
     "traceback": [
      "\u001b[0;31m---------------------------------------------------------------------------\u001b[0m",
      "\u001b[0;31mNameError\u001b[0m                                 Traceback (most recent call last)",
      "\u001b[1;32m/Users/dylannguyen/Documents/Coding/RealEstate-Analyzer/analysis-models.ipynb Cell 2\u001b[0m in \u001b[0;36m<cell line: 4>\u001b[0;34m()\u001b[0m\n\u001b[1;32m      <a href='vscode-notebook-cell:/Users/dylannguyen/Documents/Coding/RealEstate-Analyzer/analysis-models.ipynb#W1sZmlsZQ%3D%3D?line=1'>2</a>\u001b[0m \u001b[39mprint\u001b[39m(\u001b[39m\"\u001b[39m\u001b[39mApproach 1: The p-value approach to hypothesis testing in the decision rule\u001b[39m\u001b[39m\"\u001b[39m)\n\u001b[1;32m      <a href='vscode-notebook-cell:/Users/dylannguyen/Documents/Coding/RealEstate-Analyzer/analysis-models.ipynb#W1sZmlsZQ%3D%3D?line=2'>3</a>\u001b[0m conclusion \u001b[39m=\u001b[39m \u001b[39m\"\u001b[39m\u001b[39mFailed to reject the null hypothesis.\u001b[39m\u001b[39m\"\u001b[39m\n\u001b[0;32m----> <a href='vscode-notebook-cell:/Users/dylannguyen/Documents/Coding/RealEstate-Analyzer/analysis-models.ipynb#W1sZmlsZQ%3D%3D?line=3'>4</a>\u001b[0m \u001b[39mif\u001b[39;00m anova_table[\u001b[39m'\u001b[39m\u001b[39mP-value\u001b[39m\u001b[39m'\u001b[39m][\u001b[39m'\u001b[39m\u001b[39mBetween Groups\u001b[39m\u001b[39m'\u001b[39m] \u001b[39m<\u001b[39m\u001b[39m=\u001b[39m alpha:\n\u001b[1;32m      <a href='vscode-notebook-cell:/Users/dylannguyen/Documents/Coding/RealEstate-Analyzer/analysis-models.ipynb#W1sZmlsZQ%3D%3D?line=4'>5</a>\u001b[0m     conclusion \u001b[39m=\u001b[39m \u001b[39m\"\u001b[39m\u001b[39mNull Hypothesis is rejected.\u001b[39m\u001b[39m\"\u001b[39m\n\u001b[1;32m      <a href='vscode-notebook-cell:/Users/dylannguyen/Documents/Coding/RealEstate-Analyzer/analysis-models.ipynb#W1sZmlsZQ%3D%3D?line=5'>6</a>\u001b[0m \u001b[39mprint\u001b[39m(\u001b[39m\"\u001b[39m\u001b[39mF-score is:\u001b[39m\u001b[39m\"\u001b[39m, anova_table[\u001b[39m'\u001b[39m\u001b[39mF\u001b[39m\u001b[39m'\u001b[39m][\u001b[39m'\u001b[39m\u001b[39mBetween Groups\u001b[39m\u001b[39m'\u001b[39m],\n\u001b[1;32m      <a href='vscode-notebook-cell:/Users/dylannguyen/Documents/Coding/RealEstate-Analyzer/analysis-models.ipynb#W1sZmlsZQ%3D%3D?line=6'>7</a>\u001b[0m       \u001b[39m\"\u001b[39m\u001b[39m and p value is:\u001b[39m\u001b[39m\"\u001b[39m, anova_table[\u001b[39m'\u001b[39m\u001b[39mP-value\u001b[39m\u001b[39m'\u001b[39m][\u001b[39m'\u001b[39m\u001b[39mBetween Groups\u001b[39m\u001b[39m'\u001b[39m])\n",
      "\u001b[0;31mNameError\u001b[0m: name 'anova_table' is not defined"
     ]
    }
   ],
   "source": [
    "# The p-value approach\n",
    "print(\"Approach 1: The p-value approach to hypothesis testing in the decision rule\")\n",
    "conclusion = \"Failed to reject the null hypothesis.\"\n",
    "if anova_table['P-value']['Between Groups'] <= alpha:\n",
    "    conclusion = \"Null Hypothesis is rejected.\"\n",
    "print(\"F-score is:\", anova_table['F']['Between Groups'],\n",
    "      \" and p value is:\", anova_table['P-value']['Between Groups'])\n",
    "print(conclusion)\n"
   ]
  }
 ],
 "metadata": {
  "kernelspec": {
   "display_name": "Python 3.9.13 ('base')",
   "language": "python",
   "name": "python3"
  },
  "language_info": {
   "codemirror_mode": {
    "name": "ipython",
    "version": 3
   },
   "file_extension": ".py",
   "mimetype": "text/x-python",
   "name": "python",
   "nbconvert_exporter": "python",
   "pygments_lexer": "ipython3",
   "version": "3.9.13"
  },
  "orig_nbformat": 4,
  "vscode": {
   "interpreter": {
    "hash": "38071d42346113907ecedb6227c75235207545b2fa36b0e69a5d4a2aacf28a88"
   }
  }
 },
 "nbformat": 4,
 "nbformat_minor": 2
}
