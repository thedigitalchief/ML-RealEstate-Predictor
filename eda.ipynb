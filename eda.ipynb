{
 "cells": [
  {
   "cell_type": "code",
   "execution_count": 2,
   "metadata": {},
   "outputs": [],
   "source": [
    "\"\"\"\n",
    "@author Dylan Nguyen\n",
    "@email me@dylanhnguyen.com\n",
    "@website https://dylanhnguyen.com\n",
    "\n",
    "This workbook escribes the preliminary EDA for Trulia realestate housing pricing dataset\n",
    "\"\"\";\n",
    "\n",
    "import pandas as pd\n",
    "import matplotlib.pyplot as plt\n",
    "import seaborn as sns\n",
    "import sqlite3\n",
    "import numpy as np\n",
    "\n",
    "from scipy import stats"
   ]
  },
  {
   "cell_type": "markdown",
   "metadata": {},
   "source": [
    "## Importing and Formatting Data Set"
   ]
  },
  {
   "cell_type": "code",
   "execution_count": 3,
   "metadata": {},
   "outputs": [
    {
     "ename": "DatabaseError",
     "evalue": "Execution failed on sql 'SELECT * FROM trulia_house_SB_data_cleaned': no such table: trulia_house_SB_data_cleaned",
     "output_type": "error",
     "traceback": [
      "\u001b[0;31m---------------------------------------------------------------------------\u001b[0m",
      "\u001b[0;31mOperationalError\u001b[0m                          Traceback (most recent call last)",
      "File \u001b[0;32m~/opt/anaconda3/lib/python3.9/site-packages/pandas/io/sql.py:2020\u001b[0m, in \u001b[0;36mSQLiteDatabase.execute\u001b[0;34m(self, *args, **kwargs)\u001b[0m\n\u001b[1;32m   2019\u001b[0m \u001b[39mtry\u001b[39;00m:\n\u001b[0;32m-> 2020\u001b[0m     cur\u001b[39m.\u001b[39;49mexecute(\u001b[39m*\u001b[39;49margs, \u001b[39m*\u001b[39;49m\u001b[39m*\u001b[39;49mkwargs)\n\u001b[1;32m   2021\u001b[0m     \u001b[39mreturn\u001b[39;00m cur\n",
      "\u001b[0;31mOperationalError\u001b[0m: no such table: trulia_house_SB_data_cleaned",
      "\nThe above exception was the direct cause of the following exception:\n",
      "\u001b[0;31mDatabaseError\u001b[0m                             Traceback (most recent call last)",
      "\u001b[1;32m/Users/dylannguyen/Documents/Coding/RealEstate-Analyzer/eda.ipynb Cell 3\u001b[0m in \u001b[0;36m<cell line: 5>\u001b[0;34m()\u001b[0m\n\u001b[1;32m      <a href='vscode-notebook-cell:/Users/dylannguyen/Documents/Coding/RealEstate-Analyzer/eda.ipynb#W2sZmlsZQ%3D%3D?line=1'>2</a>\u001b[0m conn \u001b[39m=\u001b[39m sqlite3\u001b[39m.\u001b[39mconnect(\u001b[39mr\u001b[39m\u001b[39m'\u001b[39m\u001b[39mhouse-data.db\u001b[39m\u001b[39m'\u001b[39m)\n\u001b[1;32m      <a href='vscode-notebook-cell:/Users/dylannguyen/Documents/Coding/RealEstate-Analyzer/eda.ipynb#W2sZmlsZQ%3D%3D?line=3'>4</a>\u001b[0m \u001b[39m#reading the \"cleaned data\" table from the Trulia house database and store in a Pandas dataframe\u001b[39;00m\n\u001b[0;32m----> <a href='vscode-notebook-cell:/Users/dylannguyen/Documents/Coding/RealEstate-Analyzer/eda.ipynb#W2sZmlsZQ%3D%3D?line=4'>5</a>\u001b[0m df \u001b[39m=\u001b[39m pd\u001b[39m.\u001b[39;49mread_sql_query(\u001b[39m\"\u001b[39;49m\u001b[39mSELECT * FROM trulia_house_SB_data_cleaned\u001b[39;49m\u001b[39m\"\u001b[39;49m, conn)\n",
      "File \u001b[0;32m~/opt/anaconda3/lib/python3.9/site-packages/pandas/io/sql.py:399\u001b[0m, in \u001b[0;36mread_sql_query\u001b[0;34m(sql, con, index_col, coerce_float, params, parse_dates, chunksize, dtype)\u001b[0m\n\u001b[1;32m    341\u001b[0m \u001b[39m\"\"\"\u001b[39;00m\n\u001b[1;32m    342\u001b[0m \u001b[39mRead SQL query into a DataFrame.\u001b[39;00m\n\u001b[1;32m    343\u001b[0m \n\u001b[0;32m   (...)\u001b[0m\n\u001b[1;32m    396\u001b[0m \u001b[39mparameter will be converted to UTC.\u001b[39;00m\n\u001b[1;32m    397\u001b[0m \u001b[39m\"\"\"\u001b[39;00m\n\u001b[1;32m    398\u001b[0m pandas_sql \u001b[39m=\u001b[39m pandasSQL_builder(con)\n\u001b[0;32m--> 399\u001b[0m \u001b[39mreturn\u001b[39;00m pandas_sql\u001b[39m.\u001b[39;49mread_query(\n\u001b[1;32m    400\u001b[0m     sql,\n\u001b[1;32m    401\u001b[0m     index_col\u001b[39m=\u001b[39;49mindex_col,\n\u001b[1;32m    402\u001b[0m     params\u001b[39m=\u001b[39;49mparams,\n\u001b[1;32m    403\u001b[0m     coerce_float\u001b[39m=\u001b[39;49mcoerce_float,\n\u001b[1;32m    404\u001b[0m     parse_dates\u001b[39m=\u001b[39;49mparse_dates,\n\u001b[1;32m    405\u001b[0m     chunksize\u001b[39m=\u001b[39;49mchunksize,\n\u001b[1;32m    406\u001b[0m     dtype\u001b[39m=\u001b[39;49mdtype,\n\u001b[1;32m    407\u001b[0m )\n",
      "File \u001b[0;32m~/opt/anaconda3/lib/python3.9/site-packages/pandas/io/sql.py:2080\u001b[0m, in \u001b[0;36mSQLiteDatabase.read_query\u001b[0;34m(self, sql, index_col, coerce_float, params, parse_dates, chunksize, dtype)\u001b[0m\n\u001b[1;32m   2068\u001b[0m \u001b[39mdef\u001b[39;00m \u001b[39mread_query\u001b[39m(\n\u001b[1;32m   2069\u001b[0m     \u001b[39mself\u001b[39m,\n\u001b[1;32m   2070\u001b[0m     sql,\n\u001b[0;32m   (...)\u001b[0m\n\u001b[1;32m   2076\u001b[0m     dtype: DtypeArg \u001b[39m|\u001b[39m \u001b[39mNone\u001b[39;00m \u001b[39m=\u001b[39m \u001b[39mNone\u001b[39;00m,\n\u001b[1;32m   2077\u001b[0m ):\n\u001b[1;32m   2079\u001b[0m     args \u001b[39m=\u001b[39m _convert_params(sql, params)\n\u001b[0;32m-> 2080\u001b[0m     cursor \u001b[39m=\u001b[39m \u001b[39mself\u001b[39;49m\u001b[39m.\u001b[39;49mexecute(\u001b[39m*\u001b[39;49margs)\n\u001b[1;32m   2081\u001b[0m     columns \u001b[39m=\u001b[39m [col_desc[\u001b[39m0\u001b[39m] \u001b[39mfor\u001b[39;00m col_desc \u001b[39min\u001b[39;00m cursor\u001b[39m.\u001b[39mdescription]\n\u001b[1;32m   2083\u001b[0m     \u001b[39mif\u001b[39;00m chunksize \u001b[39mis\u001b[39;00m \u001b[39mnot\u001b[39;00m \u001b[39mNone\u001b[39;00m:\n",
      "File \u001b[0;32m~/opt/anaconda3/lib/python3.9/site-packages/pandas/io/sql.py:2032\u001b[0m, in \u001b[0;36mSQLiteDatabase.execute\u001b[0;34m(self, *args, **kwargs)\u001b[0m\n\u001b[1;32m   2029\u001b[0m     \u001b[39mraise\u001b[39;00m ex \u001b[39mfrom\u001b[39;00m \u001b[39minner_exc\u001b[39;00m\n\u001b[1;32m   2031\u001b[0m ex \u001b[39m=\u001b[39m DatabaseError(\u001b[39mf\u001b[39m\u001b[39m\"\u001b[39m\u001b[39mExecution failed on sql \u001b[39m\u001b[39m'\u001b[39m\u001b[39m{\u001b[39;00margs[\u001b[39m0\u001b[39m]\u001b[39m}\u001b[39;00m\u001b[39m'\u001b[39m\u001b[39m: \u001b[39m\u001b[39m{\u001b[39;00mexc\u001b[39m}\u001b[39;00m\u001b[39m\"\u001b[39m)\n\u001b[0;32m-> 2032\u001b[0m \u001b[39mraise\u001b[39;00m ex \u001b[39mfrom\u001b[39;00m \u001b[39mexc\u001b[39;00m\n",
      "\u001b[0;31mDatabaseError\u001b[0m: Execution failed on sql 'SELECT * FROM trulia_house_SB_data_cleaned': no such table: trulia_house_SB_data_cleaned"
     ]
    }
   ],
   "source": [
    "#Initializing connection with the Trulia housing database .db file\n",
    "conn = sqlite3.connect(r'house-data.db')\n",
    "\n",
    "#reading the \"cleaned data\" table from the Trulia house database and store in a Pandas dataframe\n",
    "df = pd.read_sql_query(\"SELECT * FROM trulia_house_SB_data_cleaned\", conn)"
   ]
  },
  {
   "cell_type": "markdown",
   "metadata": {},
   "source": [
    "## Basic EDA"
   ]
  },
  {
   "cell_type": "code",
   "execution_count": null,
   "metadata": {},
   "outputs": [
    {
     "ename": "",
     "evalue": "",
     "output_type": "error",
     "traceback": [
      "\u001b[1;31mRunning cells with 'Python 3.9.13 64-bit' requires ipykernel package.\n",
      "Run the following command to install 'ipykernel' into the Python environment. \n",
      "Command: '/opt/homebrew/bin/python3 -m pip install ipykernel -U --user --force-reinstall'"
     ]
    }
   ],
   "source": [
    "#inspec the basic features of the dataset:\n",
    "df.columns\n",
    "df.head()\n"
   ]
  },
  {
   "cell_type": "code",
   "execution_count": null,
   "metadata": {},
   "outputs": [],
   "source": [
    "df.zip.value_counts()\n"
   ]
  },
  {
   "cell_type": "markdown",
   "metadata": {},
   "source": [
    "## Exploritory Data Analysis"
   ]
  },
  {
   "cell_type": "code",
   "execution_count": null,
   "metadata": {},
   "outputs": [],
   "source": [
    "numeric_cols=['price', 'num_bedrooms',\n",
    "       'num_baths', 'building_sqft', 'lot_area',\n",
    "        'house_age', 'has_garage',\n",
    "       'has_fireplace', 'has_ocean_views', 'has_mountain_views',\n",
    "       'has_hope_ranch', 'has_montecito','building_sqft_was_missing']"
   ]
  },
  {
   "cell_type": "code",
   "execution_count": null,
   "metadata": {},
   "outputs": [],
   "source": [
    "pair_cols = ['price', 'num_bedrooms',\n",
    "             'num_baths', 'building_sqft', 'lot_area',\n",
    "             'house_age']\n"
   ]
  },
  {
   "cell_type": "markdown",
   "metadata": {},
   "source": [
    "### Histogram of house price\n",
    "* *Conclusions:*"
   ]
  },
  {
   "cell_type": "code",
   "execution_count": null,
   "metadata": {},
   "outputs": [
    {
     "ename": "",
     "evalue": "",
     "output_type": "error",
     "traceback": [
      "\u001b[1;31mRunning cells with 'Python 3.9.13 64-bit' requires ipykernel package.\n",
      "Run the following command to install 'ipykernel' into the Python environment. \n",
      "Command: '/opt/homebrew/bin/python3 -m pip install ipykernel -U --user --force-reinstall'"
     ]
    }
   ],
   "source": [
    "plt.rcParams.update({'font.size': 15})\n",
    "plt.rcParams[\"axes.edgecolor\"] = \"black\"\n",
    "plt.rcParams[\"axes.linewidth\"] = 1.5\n",
    "\n",
    "sns.set_style(\"white\")\n",
    "sns.set_color_codes(palette='deep')\n",
    "f, ax = plt.subplots(figsize=(8, 7))\n",
    "\n",
    "sns.histplot(df['price'], ax=ax, kde=True, legend=False)\n",
    "ax.xaxis.grid(False)\n",
    "ax.set(ylabel=\"Frequency\")\n",
    "ax.set(xlabel=\"price\")\n",
    "\n",
    "#sns.despine(trim=True, left=True)\n",
    "plt.show()"
   ]
  },
  {
   "cell_type": "code",
   "execution_count": null,
   "metadata": {},
   "outputs": [],
   "source": [
    "normalized_data = stats.boxcox(df['price'])\n",
    "\n",
    "fig, ax = plt.subplots(1, 2, figsize=(15, 3))\n",
    "\n",
    "sns.histplot(df['price'], ax=ax[0], kde=True, legend=False)\n",
    "ax[0].set_title(\"original Data\")\n",
    "\n",
    "sns.histplot(normalized_data[0], ax=ax[1], kde=True, legend=False)\n",
    "ax[1].set_title(\"Normalized data\")\n",
    "plt.show()\n"
   ]
  },
  {
   "cell_type": "markdown",
   "metadata": {},
   "source": [
    "### Pairplots"
   ]
  },
  {
   "cell_type": "code",
   "execution_count": null,
   "metadata": {},
   "outputs": [],
   "source": [
    "sns.pairplot(df[pair_cols])"
   ]
  },
  {
   "cell_type": "markdown",
   "metadata": {},
   "source": [
    "### Heatmap"
   ]
  },
  {
   "cell_type": "code",
   "execution_count": null,
   "metadata": {},
   "outputs": [],
   "source": [
    "f, ax = plt.subplots(figsize=(8, 7))\n",
    "sns.heatmap(df[numeric_cols].corr(), annot=False)"
   ]
  },
  {
   "cell_type": "markdown",
   "metadata": {},
   "source": [
    "### In Depth Histogram"
   ]
  },
  {
   "cell_type": "code",
   "execution_count": null,
   "metadata": {},
   "outputs": [
    {
     "ename": "",
     "evalue": "",
     "output_type": "error",
     "traceback": [
      "\u001b[1;31mRunning cells with 'Python 3.9.13 64-bit' requires ipykernel package.\n",
      "Run the following command to install 'ipykernel' into the Python environment. \n",
      "Command: '/opt/homebrew/bin/python3 -m pip install ipykernel -U --user --force-reinstall'"
     ]
    }
   ],
   "source": [
    "fig, axes = plt.subplots(2, 3, figsize=(15, 7))\n",
    "fig.tight_layout(pad=4.0)\n",
    "\n",
    "sns.histplot(df['price'], ax=axes[0, 0], kde=True, legend=False)\n",
    "#df.price.hist(ax=axes[0,0])\n",
    "#axes[0,0].set_title(df.price.name)\n",
    "\n",
    "sns.histplot(df['num_bedrooms'], ax=axes[0, 1], kde=False, legend=False)\n",
    "#df.num_bedrooms.hist(ax=axes[0,1])\n",
    "#axes[0,1].set_title(df.num_bedrooms.name)\n",
    "\n",
    "sns.histplot(df['num_baths'], ax=axes[0, 2], kde=False, legend=False)\n",
    "#df.num_baths.hist(ax=axes[0,2])\n",
    "#axes[0,2].set_title(df.num_baths.name)\n",
    "\n",
    "sns.histplot(df['building_sqft'], ax=axes[1, 0], kde=True, legend=False)\n",
    "#df.building_sqft.hist(ax=axes[1,0])\n",
    "#axes[1,0].set_title(df.building_sqft.name)\n",
    "\n",
    "sns.histplot(df['lot_area'], ax=axes[1, 1], kde=True, legend=False)\n",
    "#df.lot_area.hist(ax=axes[1,1])\n",
    "#axes[1,1].set_title(df.lot_area.name)\n",
    "\n",
    "sns.histplot(df['house_age'], ax=axes[1, 2], kde=True, legend=False)\n",
    "#df.house_age.hist(ax=axes[1,2])\n",
    "#axes[1,2].set_title(df.house_age.name)\n"
   ]
  },
  {
   "cell_type": "code",
   "execution_count": null,
   "metadata": {},
   "outputs": [],
   "source": [
    "#normalizing data\n",
    "\n",
    "fig, ax = plt.subplots(4, 2, figsize=(10, 15))\n",
    "fig.tight_layout(pad=5.0)\n",
    "\n",
    "\n",
    "sns.histplot(df['num_baths'], ax=ax[0, 0], kde=False, legend=False)\n",
    "\n",
    "df['num_baths_norm'] = stats.boxcox(df['num_baths'])[0]\n",
    "sns.histplot(df['num_baths_norm'], ax=ax[0, 1], kde=False, legend=False)\n",
    "\n",
    "\n",
    "sns.histplot(df['lot_area'], ax=ax[1, 0], kde=True, legend=False)\n",
    "\n",
    "df['lot_area_norm'] = stats.boxcox(df['lot_area'])[0]\n",
    "sns.histplot(df['lot_area_norm'], ax=ax[1, 1], kde=True, legend=False)\n",
    "\n",
    "\n",
    "sns.histplot(df['building_sqft'], ax=ax[2, 0], kde=True, legend=False)\n",
    "\n",
    "# df['building_sqft_norm']=stats.boxcox(df['building_sqft'])[0]\n",
    "df[\"building_sqft_norm\"] = np.log1p(df[\"building_sqft\"])\n",
    "sns.histplot(df['building_sqft_norm'], ax=ax[2, 1], kde=True, legend=False)\n",
    "\n",
    "\n",
    "sns.histplot(df['price'], ax=ax[3, 0], kde=True, legend=False)\n",
    "\n",
    "#df['price_norm']=stats.boxcox(df['price'])[0]\n",
    "df[\"price_norm\"] = np.log1p(df[\"price\"])\n",
    "sns.histplot(df['price_norm'], ax=ax[3, 1], kde=True, legend=False)\n",
    "\n",
    "plt.show()"
   ]
  },
  {
   "cell_type": "markdown",
   "metadata": {},
   "source": [
    "### Boxplot"
   ]
  },
  {
   "cell_type": "code",
   "execution_count": null,
   "metadata": {},
   "outputs": [],
   "source": [
    "# visualize the distribution and outliers for all of the numeric variables using a box plot \n",
    "\n",
    "fig,axes=plt.subplots(2,3,figsize=(15, 7),frameon=True)\n",
    "fig.tight_layout(pad=3.0)\n",
    "\n",
    "df.boxplot(ax=axes[0,0],column='price')\n",
    "\n",
    "df.boxplot(ax=axes[0,1],column='num_bedrooms')\n",
    "\n",
    "df.boxplot(ax=axes[0,2],column='num_baths')\n",
    "\n",
    "df.boxplot(ax=axes[1,0],column='building_sqft')\n",
    "\n",
    "df.boxplot(ax=axes[1,1],column='lot_area')\n",
    "\n",
    "df.boxplot(ax=axes[1,2],column='house_age')"
   ]
  },
  {
   "cell_type": "markdown",
   "metadata": {},
   "source": [
    "### Strip Plot"
   ]
  },
  {
   "cell_type": "code",
   "execution_count": null,
   "metadata": {},
   "outputs": [],
   "source": [
    "fig, ax = plt.subplots(figsize=(10, 5))\n",
    "sns.stripplot(x='zip', y='price', data=df, ax=ax)"
   ]
  },
  {
   "cell_type": "markdown",
   "metadata": {},
   "source": [
    "### Boxplot of zip code prices"
   ]
  },
  {
   "cell_type": "code",
   "execution_count": null,
   "metadata": {},
   "outputs": [],
   "source": [
    "f, ax = plt.subplots(figsize=(8, 6))\n",
    "fig = sns.boxplot(x='zip', y='price', data=df)\n",
    "fig.axis(ymin=0, ymax=10)\n",
    "\n",
    "#mean values of zip prices\n",
    "pd.pivot_table(df, index='zip', values='price')\n"
   ]
  },
  {
   "cell_type": "markdown",
   "metadata": {},
   "source": [
    "### Q-Q plots"
   ]
  },
  {
   "cell_type": "code",
   "execution_count": 1,
   "metadata": {},
   "outputs": [
    {
     "ename": "NameError",
     "evalue": "name 'plt' is not defined",
     "output_type": "error",
     "traceback": [
      "\u001b[0;31m---------------------------------------------------------------------------\u001b[0m",
      "\u001b[0;31mNameError\u001b[0m                                 Traceback (most recent call last)",
      "\u001b[1;32m/Users/dylannguyen/Documents/Coding/RealEstate-Analyzer/eda.ipynb Cell 27\u001b[0m in \u001b[0;36m<cell line: 5>\u001b[0;34m()\u001b[0m\n\u001b[1;32m      <a href='vscode-notebook-cell:/Users/dylannguyen/Documents/Coding/RealEstate-Analyzer/eda.ipynb#X35sZmlsZQ%3D%3D?line=0'>1</a>\u001b[0m \u001b[39m# Q-Q plots for for each grouped variable\u001b[39;00m\n\u001b[1;32m      <a href='vscode-notebook-cell:/Users/dylannguyen/Documents/Coding/RealEstate-Analyzer/eda.ipynb#X35sZmlsZQ%3D%3D?line=2'>3</a>\u001b[0m \u001b[39mimport\u001b[39;00m \u001b[39mscipy\u001b[39;00m\u001b[39m.\u001b[39;00m\u001b[39mstats\u001b[39;00m \u001b[39mas\u001b[39;00m \u001b[39mstats\u001b[39;00m\n\u001b[0;32m----> <a href='vscode-notebook-cell:/Users/dylannguyen/Documents/Coding/RealEstate-Analyzer/eda.ipynb#X35sZmlsZQ%3D%3D?line=4'>5</a>\u001b[0m fig, axs \u001b[39m=\u001b[39m plt\u001b[39m.\u001b[39msubplots(\u001b[39m3\u001b[39m, \u001b[39m3\u001b[39m, figsize\u001b[39m=\u001b[39m(\u001b[39m12\u001b[39m, \u001b[39m10\u001b[39m))\n\u001b[1;32m      <a href='vscode-notebook-cell:/Users/dylannguyen/Documents/Coding/RealEstate-Analyzer/eda.ipynb#X35sZmlsZQ%3D%3D?line=5'>6</a>\u001b[0m fig\u001b[39m.\u001b[39mtight_layout(pad\u001b[39m=\u001b[39m\u001b[39m3.0\u001b[39m)\n\u001b[1;32m      <a href='vscode-notebook-cell:/Users/dylannguyen/Documents/Coding/RealEstate-Analyzer/eda.ipynb#X35sZmlsZQ%3D%3D?line=6'>7</a>\u001b[0m ax \u001b[39m=\u001b[39m axs\u001b[39m.\u001b[39mflatten()\n",
      "\u001b[0;31mNameError\u001b[0m: name 'plt' is not defined"
     ]
    }
   ],
   "source": [
    "# Q-Q plots for for each grouped variable\n",
    "\n",
    "import scipy.stats as stats\n",
    "\n",
    "fig, axs = plt.subplots(3, 3, figsize=(12, 10))\n",
    "fig.tight_layout(pad=3.0)\n",
    "ax = axs.flatten()\n",
    "unique_zipcode = df['zip'].unique()\n",
    "count = 0\n",
    "\n",
    "for zipcode in unique_zipcode:\n",
    "    stats.probplot(df[df['zip'] == zipcode]['price'], dist=\"norm\", plot=plt,)\n",
    "    plt.title(\"Q-Q plot - \" + zipcode)\n",
    "    plt.axes(ax[count])\n",
    "    count += 1"
   ]
  },
  {
   "cell_type": "code",
   "execution_count": null,
   "metadata": {},
   "outputs": [],
   "source": [
    "data = [['Between Groups', '', '', '', '', '', ''], ['Within Groups','', '', '', '', '', ''], ['Total', '', '', '', '', '', '']]\n",
    "anova_table = pd.DataFrame(\n",
    "    data, columns=['Source of Variation', 'SS', 'df', 'MS', 'F', 'P-value', 'F crit'])\n",
    "anova_table.set_index('Source of Variation', inplace=True)\n",
    "\n",
    "# calculate SSTR and update anova table\n",
    "x_bar = df['price'].mean()\n",
    "SSTR = df.groupby('zip').count() * (df.groupby('zip').mean() - x_bar)**2\n",
    "anova_table['SS']['Between Groups'] = SSTR['price'].sum()\n",
    "\n",
    "# calculate SSE and update anova table\n",
    "SSE = (df.groupby('zip').count() - 1) * df.groupby('zip').std()**2\n",
    "anova_table['SS']['Within Groups'] = SSE['price'].sum()\n",
    "\n",
    "# calculate SSTR and update anova table\n",
    "SSTR = SSTR['price'].sum() + SSE['price'].sum()\n",
    "anova_table['SS']['Total'] = SSTR\n",
    "\n",
    "# update degree of freedom\n",
    "anova_table['df']['Between Groups'] = df['zip'].nunique() - 1\n",
    "anova_table['df']['Within Groups'] = df.shape[0] - df['zip'].nunique()\n",
    "anova_table['df']['Total'] = df.shape[0] - 1\n",
    "\n",
    "# calculate mean of squares (MS)\n",
    "anova_table['MS'] = anova_table['SS'] / anova_table['df']\n",
    "\n",
    "# calculate value of F distribution (F)\n",
    "F = anova_table['MS']['Between Groups'] / anova_table['MS']['Within Groups']\n",
    "anova_table['F']['Between Groups'] = F\n",
    "\n",
    "# p-value, tells us whether the differences between some of the means are statistically significant\n",
    "pd.set_option('display.float_format', '{:.2g}'.format)\n",
    "\n",
    "anova_table['P-value']['Between Groups'] = 1 - stats.f.cdf(\n",
    "    F, anova_table['df']['Between Groups'], anova_table['df']['Within Groups'])\n",
    "\n",
    "# F critical for one sided test\n",
    "alpha = 0.05\n",
    "\n",
    "# possible types \"right-tailed, left-tailed, two-tailed\"\n",
    "tail_hypothesis_type = \"two-tailed\"\n",
    "if tail_hypothesis_type == \"two-tailed\":\n",
    "    alpha /= 2\n",
    "anova_table['F crit']['Between Groups'] = stats.f.ppf(\n",
    "    1-alpha, anova_table['df']['Between Groups'], anova_table['df']['Within Groups'])\n",
    "\n",
    "\n",
    "# Final ANOVA Table\n",
    "anova_table\n"
   ]
  }
 ],
 "metadata": {
  "kernelspec": {
   "display_name": "Python 3.9.12",
   "language": "python",
   "name": "python3"
  },
  "language_info": {
   "codemirror_mode": {
    "name": "ipython",
    "version": 3
   },
   "file_extension": ".py",
   "mimetype": "text/x-python",
   "name": "python",
   "nbconvert_exporter": "python",
   "pygments_lexer": "ipython3",
   "version": "3.9.12"
  },
  "orig_nbformat": 4,
  "vscode": {
   "interpreter": {
    "hash": "33c8b23bc582f7a74b9111a321c2904b580ffed4f8c89cbd419921d6ebbc0cf3"
   }
  }
 },
 "nbformat": 4,
 "nbformat_minor": 2
}
