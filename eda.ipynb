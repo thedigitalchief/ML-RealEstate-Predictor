{
 "cells": [
  {
   "cell_type": "code",
   "execution_count": null,
   "metadata": {},
   "outputs": [
    {
     "ename": "",
     "evalue": "",
     "output_type": "error",
     "traceback": [
      "\u001b[1;31mRunning cells with 'Python 3.9.13 64-bit' requires ipykernel package.\n",
      "Run the following command to install 'ipykernel' into the Python environment. \n",
      "Command: '/opt/homebrew/bin/python3 -m pip install ipykernel -U --user --force-reinstall'"
     ]
    }
   ],
   "source": [
    "\"\"\"\n",
    "@author Dylan Nguyen\n",
    "@email me@dylanhnguyen.com\n",
    "@website https://dylanhnguyen.com\n",
    "\n",
    "This workbook escribes the preliminary EDA for Trulia realestate housing pricing dataset\n",
    "\"\"\";\n",
    "\n",
    "import pandas as pd\n",
    "import matplotlib.pyplot as plt\n",
    "import seaborn as sns\n",
    "import sqlite3\n",
    "import numpy as np\n",
    "\n",
    "from scipy import stats"
   ]
  },
  {
   "cell_type": "markdown",
   "metadata": {},
   "source": [
    "## Importing and Formatting Data Set"
   ]
  },
  {
   "cell_type": "code",
   "execution_count": null,
   "metadata": {},
   "outputs": [
    {
     "ename": "",
     "evalue": "",
     "output_type": "error",
     "traceback": [
      "\u001b[1;31mRunning cells with 'Python 3.9.13 64-bit' requires ipykernel package.\n",
      "Run the following command to install 'ipykernel' into the Python environment. \n",
      "Command: '/opt/homebrew/bin/python3 -m pip install ipykernel -U --user --force-reinstall'"
     ]
    }
   ],
   "source": [
    "#Initializing connection with the Trulia housing database .db file\n",
    "conn = sqlite3.connect(r'house-data.db')\n",
    "\n",
    "#reading the \"cleaned data\" table from the Trulia house database and store in a Pandas dataframe\n",
    "df = pd.read_sql_query(\"SELECT * FROM trulia_house_SB_data_cleaned\", conn)"
   ]
  },
  {
   "cell_type": "markdown",
   "metadata": {},
   "source": [
    "## Basic EDA"
   ]
  },
  {
   "cell_type": "code",
   "execution_count": null,
   "metadata": {},
   "outputs": [
    {
     "ename": "",
     "evalue": "",
     "output_type": "error",
     "traceback": [
      "\u001b[1;31mRunning cells with 'Python 3.9.13 64-bit' requires ipykernel package.\n",
      "Run the following command to install 'ipykernel' into the Python environment. \n",
      "Command: '/opt/homebrew/bin/python3 -m pip install ipykernel -U --user --force-reinstall'"
     ]
    }
   ],
   "source": [
    "#inspec the basic features of the dataset:\n",
    "df.columns\n",
    "df.head()\n"
   ]
  },
  {
   "cell_type": "code",
   "execution_count": null,
   "metadata": {},
   "outputs": [],
   "source": [
    "df.zip.value_counts()\n"
   ]
  },
  {
   "cell_type": "markdown",
   "metadata": {},
   "source": [
    "## Exploritory Data Analysis"
   ]
  },
  {
   "cell_type": "code",
   "execution_count": null,
   "metadata": {},
   "outputs": [],
   "source": [
    "numeric_cols=['price', 'num_bedrooms',\n",
    "       'num_baths', 'building_sqft', 'lot_area',\n",
    "        'house_age', 'has_garage',\n",
    "       'has_fireplace', 'has_ocean_views', 'has_mountain_views',\n",
    "       'has_hope_ranch', 'has_montecito','building_sqft_was_missing']"
   ]
  },
  {
   "cell_type": "code",
   "execution_count": null,
   "metadata": {},
   "outputs": [],
   "source": [
    "pair_cols = ['price', 'num_bedrooms',\n",
    "             'num_baths', 'building_sqft', 'lot_area',\n",
    "             'house_age']\n"
   ]
  },
  {
   "cell_type": "markdown",
   "metadata": {},
   "source": [
    "### Histogram of house price\n",
    "* *Conclusions:*"
   ]
  },
  {
   "cell_type": "code",
   "execution_count": null,
   "metadata": {},
   "outputs": [
    {
     "ename": "",
     "evalue": "",
     "output_type": "error",
     "traceback": [
      "\u001b[1;31mRunning cells with 'Python 3.9.13 64-bit' requires ipykernel package.\n",
      "Run the following command to install 'ipykernel' into the Python environment. \n",
      "Command: '/opt/homebrew/bin/python3 -m pip install ipykernel -U --user --force-reinstall'"
     ]
    }
   ],
   "source": [
    "plt.rcParams.update({'font.size': 15})\n",
    "plt.rcParams[\"axes.edgecolor\"] = \"black\"\n",
    "plt.rcParams[\"axes.linewidth\"] = 1.5\n",
    "\n",
    "sns.set_style(\"white\")\n",
    "sns.set_color_codes(palette='deep')\n",
    "f, ax = plt.subplots(figsize=(8, 7))\n",
    "\n",
    "sns.histplot(df['price'], ax=ax, kde=True, legend=False)\n",
    "ax.xaxis.grid(False)\n",
    "ax.set(ylabel=\"Frequency\")\n",
    "ax.set(xlabel=\"price\")\n",
    "\n",
    "#sns.despine(trim=True, left=True)\n",
    "plt.show()"
   ]
  },
  {
   "cell_type": "code",
   "execution_count": null,
   "metadata": {},
   "outputs": [],
   "source": [
    "normalized_data = stats.boxcox(df['price'])\n",
    "\n",
    "fig, ax = plt.subplots(1, 2, figsize=(15, 3))\n",
    "\n",
    "sns.histplot(df['price'], ax=ax[0], kde=True, legend=False)\n",
    "ax[0].set_title(\"original Data\")\n",
    "\n",
    "sns.histplot(normalized_data[0], ax=ax[1], kde=True, legend=False)\n",
    "ax[1].set_title(\"Normalized data\")\n",
    "plt.show()\n"
   ]
  },
  {
   "cell_type": "markdown",
   "metadata": {},
   "source": [
    "### Pairplots"
   ]
  },
  {
   "cell_type": "code",
   "execution_count": null,
   "metadata": {},
   "outputs": [],
   "source": [
    "sns.pairplot(df[pair_cols])"
   ]
  },
  {
   "cell_type": "markdown",
   "metadata": {},
   "source": [
    "### Heatmap"
   ]
  },
  {
   "cell_type": "code",
   "execution_count": null,
   "metadata": {},
   "outputs": [],
   "source": [
    "f, ax = plt.subplots(figsize=(8, 7))\n",
    "sns.heatmap(df[numeric_cols].corr(), annot=False)"
   ]
  },
  {
   "cell_type": "markdown",
   "metadata": {},
   "source": [
    "### In Depth Histogram"
   ]
  },
  {
   "cell_type": "code",
   "execution_count": null,
   "metadata": {},
   "outputs": [
    {
     "ename": "",
     "evalue": "",
     "output_type": "error",
     "traceback": [
      "\u001b[1;31mRunning cells with 'Python 3.9.13 64-bit' requires ipykernel package.\n",
      "Run the following command to install 'ipykernel' into the Python environment. \n",
      "Command: '/opt/homebrew/bin/python3 -m pip install ipykernel -U --user --force-reinstall'"
     ]
    }
   ],
   "source": [
    "fig, axes = plt.subplots(2, 3, figsize=(15, 7))\n",
    "fig.tight_layout(pad=4.0)\n",
    "\n",
    "sns.histplot(df['price'], ax=axes[0, 0], kde=True, legend=False)\n",
    "#df.price.hist(ax=axes[0,0])\n",
    "#axes[0,0].set_title(df.price.name)\n",
    "\n",
    "sns.histplot(df['num_bedrooms'], ax=axes[0, 1], kde=False, legend=False)\n",
    "#df.num_bedrooms.hist(ax=axes[0,1])\n",
    "#axes[0,1].set_title(df.num_bedrooms.name)\n",
    "\n",
    "sns.histplot(df['num_baths'], ax=axes[0, 2], kde=False, legend=False)\n",
    "#df.num_baths.hist(ax=axes[0,2])\n",
    "#axes[0,2].set_title(df.num_baths.name)\n",
    "\n",
    "sns.histplot(df['building_sqft'], ax=axes[1, 0], kde=True, legend=False)\n",
    "#df.building_sqft.hist(ax=axes[1,0])\n",
    "#axes[1,0].set_title(df.building_sqft.name)\n",
    "\n",
    "sns.histplot(df['lot_area'], ax=axes[1, 1], kde=True, legend=False)\n",
    "#df.lot_area.hist(ax=axes[1,1])\n",
    "#axes[1,1].set_title(df.lot_area.name)\n",
    "\n",
    "sns.histplot(df['house_age'], ax=axes[1, 2], kde=True, legend=False)\n",
    "#df.house_age.hist(ax=axes[1,2])\n",
    "#axes[1,2].set_title(df.house_age.name)\n"
   ]
  },
  {
   "cell_type": "code",
   "execution_count": null,
   "metadata": {},
   "outputs": [],
   "source": [
    "#normalizing data\n",
    "\n",
    "fig, ax = plt.subplots(4, 2, figsize=(10, 15))\n",
    "fig.tight_layout(pad=5.0)\n",
    "\n",
    "\n",
    "sns.histplot(df['num_baths'], ax=ax[0, 0], kde=False, legend=False)\n",
    "\n",
    "df['num_baths_norm'] = stats.boxcox(df['num_baths'])[0]\n",
    "sns.histplot(df['num_baths_norm'], ax=ax[0, 1], kde=False, legend=False)\n",
    "\n",
    "\n",
    "sns.histplot(df['lot_area'], ax=ax[1, 0], kde=True, legend=False)\n",
    "\n",
    "df['lot_area_norm'] = stats.boxcox(df['lot_area'])[0]\n",
    "sns.histplot(df['lot_area_norm'], ax=ax[1, 1], kde=True, legend=False)\n",
    "\n",
    "\n",
    "sns.histplot(df['building_sqft'], ax=ax[2, 0], kde=True, legend=False)\n",
    "\n",
    "# df['building_sqft_norm']=stats.boxcox(df['building_sqft'])[0]\n",
    "df[\"building_sqft_norm\"] = np.log1p(df[\"building_sqft\"])\n",
    "sns.histplot(df['building_sqft_norm'], ax=ax[2, 1], kde=True, legend=False)\n",
    "\n",
    "\n",
    "sns.histplot(df['price'], ax=ax[3, 0], kde=True, legend=False)\n",
    "\n",
    "#df['price_norm']=stats.boxcox(df['price'])[0]\n",
    "df[\"price_norm\"] = np.log1p(df[\"price\"])\n",
    "sns.histplot(df['price_norm'], ax=ax[3, 1], kde=True, legend=False)\n",
    "\n",
    "plt.show()"
   ]
  },
  {
   "cell_type": "markdown",
   "metadata": {},
   "source": [
    "### Boxplot"
   ]
  },
  {
   "cell_type": "code",
   "execution_count": null,
   "metadata": {},
   "outputs": [],
   "source": [
    "# visualize the distribution and outliers for all of the numeric variables using a box plot \n",
    "\n",
    "fig,axes=plt.subplots(2,3,figsize=(15, 7),frameon=True)\n",
    "fig.tight_layout(pad=3.0)\n",
    "\n",
    "df.boxplot(ax=axes[0,0],column='price')\n",
    "\n",
    "df.boxplot(ax=axes[0,1],column='num_bedrooms')\n",
    "\n",
    "df.boxplot(ax=axes[0,2],column='num_baths')\n",
    "\n",
    "df.boxplot(ax=axes[1,0],column='building_sqft')\n",
    "\n",
    "df.boxplot(ax=axes[1,1],column='lot_area')\n",
    "\n",
    "df.boxplot(ax=axes[1,2],column='house_age')"
   ]
  },
  {
   "cell_type": "markdown",
   "metadata": {},
   "source": [
    "### Strip Plot"
   ]
  },
  {
   "cell_type": "code",
   "execution_count": null,
   "metadata": {},
   "outputs": [],
   "source": [
    "fig, ax = plt.subplots(figsize=(10, 5))\n",
    "sns.stripplot(x='zip', y='price', data=df, ax=ax)"
   ]
  },
  {
   "cell_type": "markdown",
   "metadata": {},
   "source": [
    "### Boxplot of zip code prices"
   ]
  },
  {
   "cell_type": "code",
   "execution_count": null,
   "metadata": {},
   "outputs": [],
   "source": [
    "f, ax = plt.subplots(figsize=(8, 6))\n",
    "fig = sns.boxplot(x='zip', y='price', data=df)\n",
    "fig.axis(ymin=0, ymax=10)\n"
   ]
  }
 ],
 "metadata": {
  "kernelspec": {
   "display_name": "Python 3.9.13 64-bit",
   "language": "python",
   "name": "python3"
  },
  "language_info": {
   "name": "python",
   "version": "3.9.13"
  },
  "orig_nbformat": 4,
  "vscode": {
   "interpreter": {
    "hash": "b0fa6594d8f4cbf19f97940f81e996739fb7646882a419484c72d19e05852a7e"
   }
  }
 },
 "nbformat": 4,
 "nbformat_minor": 2
}
